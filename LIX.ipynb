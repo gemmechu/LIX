{
 "cells": [
  {
   "cell_type": "code",
   "execution_count": 22,
   "metadata": {},
   "outputs": [],
   "source": [
    "import igl\n",
    "import meshplot as mp\n",
    "import glob"
   ]
  },
  {
   "cell_type": "code",
   "execution_count": 26,
   "metadata": {},
   "outputs": [
    {
     "name": "stdout",
     "output_type": "stream",
     "text": [
      "data/meshes_squat2_mesh_0230_ctg_5.html\n",
      "data/meshes_squat2_mesh_0230_ctg_3.html\n",
      "data/meshes_bouncing_mesh_0020_ctg_5.html\n",
      "data/meshes_bouncing_mesh_0020_ctg_3.html\n",
      "data/meshes_march1_mesh_0180_ctg_5.html\n",
      "data/meshes_march1_mesh_0180_ctg_3.html\n",
      "data/meshes_squat2_mesh_0230_ctg_6.html\n",
      "data/meshes_march1_mesh_0180_ctg_6.html\n",
      "data/meshes_bouncing_mesh_0020_ctg_6.html\n"
     ]
    }
   ],
   "source": [
    "def make_html(fname):\n",
    "    v,f = igl.read_triangle_mesh(fname)\n",
    "    gray =np.full(f.shape, 0.51)\n",
    "    mp.plot(v,f,c=gray).save('data/'+fname.split('/')[-1].split('.')[0] +'.html')\n",
    "    \n",
    "files = glob.glob('../output/*.obj')\n",
    "for file in files:\n",
    "    fname = file.split('/')[-1].split('.')[0]\n",
    "    fname = 'data/'+fname+'.html'\n",
    "    print(fname)\n",
    "# for file in files:\n",
    "#     make_html(file)\n",
    "# files\n",
    "# fname = '../output/meshes_bouncing_mesh_0020_ctg_3.obj'\n",
    "\n"
   ]
  },
  {
   "cell_type": "code",
   "execution_count": 21,
   "metadata": {},
   "outputs": [
    {
     "data": {
      "application/vnd.jupyter.widget-view+json": {
       "model_id": "99d9006fb99b4132869cafb820b473e9",
       "version_major": 2,
       "version_minor": 0
      },
      "text/plain": [
       "Renderer(camera=PerspectiveCamera(children=(DirectionalLight(color='white', intensity=0.6, position=(-0.014524…"
      ]
     },
     "metadata": {},
     "output_type": "display_data"
    },
    {
     "data": {
      "text/plain": [
       "<meshplot.Viewer.Viewer at 0x7f45e3eb7af0>"
      ]
     },
     "execution_count": 21,
     "metadata": {},
     "output_type": "execute_result"
    }
   ],
   "source": [
    "import numpy as np\n",
    "v,f = igl.read_triangle_mesh('../output/meshes_bouncing_mesh_0020_ctg_3.obj')\n",
    "    \n",
    "\n",
    "\n",
    "mp.plot(v,f, c=gray)\n"
   ]
  },
  {
   "cell_type": "code",
   "execution_count": 19,
   "metadata": {},
   "outputs": [
    {
     "data": {
      "text/plain": [
       "array([[0.3, 0.3, 0.3],\n",
       "       [0.3, 0.3, 0.3],\n",
       "       [0.3, 0.3, 0.3],\n",
       "       ...,\n",
       "       [0.3, 0.3, 0.3],\n",
       "       [0.3, 0.3, 0.3],\n",
       "       [0.3, 0.3, 0.3]])"
      ]
     },
     "execution_count": 19,
     "metadata": {},
     "output_type": "execute_result"
    }
   ],
   "source": [
    "np.full(f.shape, 0.3)"
   ]
  },
  {
   "cell_type": "code",
   "execution_count": null,
   "metadata": {},
   "outputs": [],
   "source": []
  }
 ],
 "metadata": {
  "interpreter": {
   "hash": "a2f770896379cace41f08c3e0a086d7f330d87c193bb3d909ad75ee81d4c072e"
  },
  "kernelspec": {
   "display_name": "Python 3.8.8 64-bit ('base': conda)",
   "language": "python",
   "name": "python3"
  },
  "language_info": {
   "codemirror_mode": {
    "name": "ipython",
    "version": 3
   },
   "file_extension": ".py",
   "mimetype": "text/x-python",
   "name": "python",
   "nbconvert_exporter": "python",
   "pygments_lexer": "ipython3",
   "version": "3.8.12"
  },
  "orig_nbformat": 4
 },
 "nbformat": 4,
 "nbformat_minor": 2
}
