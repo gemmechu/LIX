{
 "cells": [
  {
   "cell_type": "code",
   "execution_count": 7,
   "metadata": {},
   "outputs": [],
   "source": [
    "import igl\n",
    "import meshplot as mp\n",
    "import glob\n",
    "import  numpy as np"
   ]
  },
  {
   "cell_type": "code",
   "execution_count": 19,
   "metadata": {},
   "outputs": [],
   "source": [
    "def make_html(fname):\n",
    "    v,f = igl.read_triangle_mesh(fname)\n",
    "    gray =np.full(f.shape, 0.51)\n",
    "    mp.plot(v,f,c=gray).save('data/part7/point_cleannet/'+fname.split('/')[-1].split('.')[0] +'.html')\n",
    "\n",
    "files =['meshes_bouncing_mesh_0090',\n",
    " 'meshes_march2_mesh_0100',\n",
    " 'leg_n1',\n",
    " 'chinese-lion_n3',\n",
    " 'turbine-Lp_n2',\n",
    " 'chinese-lion_n1',\n",
    "  'meshes_jumping_mesh_0020',\n",
    " 'meshes_handstand_mesh_0150'] \n",
    "# files = glob.glob('../pcpnet/data/internet_mesh_smooth/*.obj')\n",
    "for file in files:\n",
    "    # fname = file.split('/')[-1].split('.')[0]\n",
    "    \n",
    "    file  = '../pcpnet/output/denoise_50-300_all/point_cleannet/smoothed_mesh/'+ file+'.obj'\n",
    "    a = make_html(file)\n",
    "    \n",
    "\n",
    "# for file in files:\n",
    "#     # file = '../pcpnet/data/noisy/'+file.split('/')[-1]\n",
    "#     # print('data/week2/'+file.split('/')[-1].split('.')[0])\n",
    "    \n",
    "#     make_html(file)\n",
    "# files\n",
    "# fname = '../output/meshes_bouncing_mesh_0020_ctg_3.obj'\n",
    "\n"
   ]
  },
  {
   "cell_type": "code",
   "execution_count": null,
   "metadata": {},
   "outputs": [
    {
     "data": {
      "application/vnd.jupyter.widget-view+json": {
       "model_id": "99d9006fb99b4132869cafb820b473e9",
       "version_major": 2,
       "version_minor": 0
      },
      "text/plain": [
       "Renderer(camera=PerspectiveCamera(children=(DirectionalLight(color='white', intensity=0.6, position=(-0.014524…"
      ]
     },
     "metadata": {},
     "output_type": "display_data"
    },
    {
     "data": {
      "text/plain": [
       "<meshplot.Viewer.Viewer at 0x7f45e3eb7af0>"
      ]
     },
     "execution_count": 21,
     "metadata": {},
     "output_type": "execute_result"
    }
   ],
   "source": [
    "import numpy as np\n",
    "v,f = igl.read_triangle_mesh('../output/meshes_bouncing_mesh_0020_ctg_3.obj')\n",
    "    \n",
    "mp.plot(v,f)\n"
   ]
  },
  {
   "cell_type": "code",
   "execution_count": 4,
   "metadata": {},
   "outputs": [],
   "source": [
    "with open('output/denoise_50-300_all/noisy_gt/chamfer_distance.txt') as f:\n",
    "        i = 0\n",
    "        for line in f:\n",
    "            name = line.split(\" \")[0]\n",
    "            \n",
    "            print(\"<tr>\")\n",
    "            print(\"<th>\", name ,\"</th>\")\n",
    "            print(\" <td>\")\n",
    "            print('<iframe src=\"data/part7/noisy/'+name+'.html\"  style=\"height: 90%; width: 80%;\"></iframe>')\n",
    "            print(\"<br><b>Chamfer:</b>\"+ noisy +\"</td>\")\n",
    "                \n",
    "            print(\"<td>\", noisy[i], \"</td>\")\n",
    "            print(\"<td>\", eq[i], \"</td>\")\n",
    "            print(\"<td>\", neq[i], \"</td>\")\n",
    "            print(\"<td>\", 0, \"</td>\")\n",
    "            print(\"<td>\", point_cleannet[i], \"</td>\")\n",
    "            print(\"<td>\", cot[i], \"</td>\")\n",
    "            print(\"</tr>\")\n",
    "            i += 1"
   ]
  },
  {
   "cell_type": "code",
   "execution_count": 1,
   "metadata": {},
   "outputs": [
    {
     "ename": "NameError",
     "evalue": "name 'trimesh' is not defined",
     "output_type": "error",
     "traceback": [
      "\u001b[0;31m---------------------------------------------------------------------------\u001b[0m",
      "\u001b[0;31mNameError\u001b[0m                                 Traceback (most recent call last)",
      "\u001b[0;32m/tmp/ipykernel_9262/2184563284.py\u001b[0m in \u001b[0;36m<module>\u001b[0;34m\u001b[0m\n\u001b[1;32m     12\u001b[0m  \u001b[0;34m'leg_n1'\u001b[0m\u001b[0;34m\u001b[0m\u001b[0;34m\u001b[0m\u001b[0m\n\u001b[1;32m     13\u001b[0m  ]\n\u001b[0;32m---> 14\u001b[0;31m \u001b[0mmesh\u001b[0m \u001b[0;34m=\u001b[0m \u001b[0mtrimesh\u001b[0m\u001b[0;34m.\u001b[0m\u001b[0mload_mesh\u001b[0m\u001b[0;34m(\u001b[0m\u001b[0;34m\"output/denoise_50-300_all/cotan/smoothed_mesh/\"\u001b[0m\u001b[0;34m+\u001b[0m \u001b[0mfiles\u001b[0m\u001b[0;34m[\u001b[0m\u001b[0;36m1\u001b[0m\u001b[0;34m]\u001b[0m \u001b[0;34m+\u001b[0m\u001b[0;34m'.obj'\u001b[0m\u001b[0;34m)\u001b[0m\u001b[0;34m\u001b[0m\u001b[0;34m\u001b[0m\u001b[0m\n\u001b[0m\u001b[1;32m     15\u001b[0m \u001b[0mverts\u001b[0m\u001b[0;34m,\u001b[0m \u001b[0mfaces\u001b[0m \u001b[0;34m=\u001b[0m \u001b[0mnp\u001b[0m\u001b[0;34m.\u001b[0m\u001b[0marray\u001b[0m\u001b[0;34m(\u001b[0m\u001b[0mmesh\u001b[0m\u001b[0;34m.\u001b[0m\u001b[0mvertices\u001b[0m\u001b[0;34m)\u001b[0m\u001b[0;34m,\u001b[0m \u001b[0mnp\u001b[0m\u001b[0;34m.\u001b[0m\u001b[0marray\u001b[0m\u001b[0;34m(\u001b[0m\u001b[0mmesh\u001b[0m\u001b[0;34m.\u001b[0m\u001b[0mfaces\u001b[0m\u001b[0;34m)\u001b[0m\u001b[0;34m\u001b[0m\u001b[0;34m\u001b[0m\u001b[0m\n\u001b[1;32m     16\u001b[0m \u001b[0mpoints\u001b[0m \u001b[0;34m=\u001b[0m \u001b[0mverts\u001b[0m\u001b[0;34m\u001b[0m\u001b[0;34m\u001b[0m\u001b[0m\n",
      "\u001b[0;31mNameError\u001b[0m: name 'trimesh' is not defined"
     ]
    }
   ],
   "source": [
    "import robust_laplacian\n",
    "from plyfile import PlyData\n",
    "import numpy as np\n",
    "import polyscope as ps\n",
    "import scipy.sparse.linalg as sla\n",
    "\n",
    "# # Read input\n",
    "# plydata = PlyData.read(\"data/xyz/meshes_bouncing_mesh_0010.xyz\")\n",
    "files =[\n",
    " 'chinese-lion_n1',\n",
    " 'meshes_bouncing_mesh_0090',\n",
    " 'leg_n1'\n",
    " ]\n",
    "mesh = trimesh.load_mesh(\"output/denoise_50-300_all/cotan/smoothed_mesh/\"+ files[1] +'.obj')\n",
    "verts, faces = np.array(mesh.vertices), np.array(mesh.faces)\n",
    "points = verts\n",
    "# # Build point cloud Laplacian\n",
    "# L, M = robust_laplacian.point_cloud_laplacian(points)\n",
    "\n",
    "# # (or for a mesh)\n",
    "L, M = robust_laplacian.mesh_laplacian(verts, faces)\n",
    "\n",
    "# # Compute some eigenvectors\n",
    "n_eig = 5\n",
    "evals, evecs = sla.eigsh(L, n_eig, M, sigma=1e-8)\n",
    "\n",
    "# # Visualize\n",
    "ps.init()\n",
    "ps_cloud = ps.register_surface_mesh(\"my mesh\", verts, faces)\n",
    "# ps_cloud = ps.register_point_cloud(\"my cloud\", points)\n",
    "for i in range(n_eig):\n",
    "    ps_cloud.add_scalar_quantity(\"eigenvector_\"+str(i), evecs[:,i], enabled=True)\n",
    "ps.show()"
   ]
  },
  {
   "cell_type": "code",
   "execution_count": null,
   "metadata": {},
   "outputs": [],
   "source": []
  }
 ],
 "metadata": {
  "interpreter": {
   "hash": "a2f770896379cace41f08c3e0a086d7f330d87c193bb3d909ad75ee81d4c072e"
  },
  "kernelspec": {
   "display_name": "Python 3.8.8 64-bit ('base': conda)",
   "language": "python",
   "name": "python3"
  },
  "language_info": {
   "codemirror_mode": {
    "name": "ipython",
    "version": 3
   },
   "file_extension": ".py",
   "mimetype": "text/x-python",
   "name": "python",
   "nbconvert_exporter": "python",
   "pygments_lexer": "ipython3",
   "version": "3.8.12"
  },
  "orig_nbformat": 4
 },
 "nbformat": 4,
 "nbformat_minor": 2
}
